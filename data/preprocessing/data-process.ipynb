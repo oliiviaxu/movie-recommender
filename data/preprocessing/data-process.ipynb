{
 "cells": [
  {
   "cell_type": "code",
   "execution_count": 49,
   "metadata": {},
   "outputs": [
    {
     "data": {
      "text/html": [
       "<div>\n",
       "<style scoped>\n",
       "    .dataframe tbody tr th:only-of-type {\n",
       "        vertical-align: middle;\n",
       "    }\n",
       "\n",
       "    .dataframe tbody tr th {\n",
       "        vertical-align: top;\n",
       "    }\n",
       "\n",
       "    .dataframe thead th {\n",
       "        text-align: right;\n",
       "    }\n",
       "</style>\n",
       "<table border=\"1\" class=\"dataframe\">\n",
       "  <thead>\n",
       "    <tr style=\"text-align: right;\">\n",
       "      <th></th>\n",
       "      <th>index</th>\n",
       "      <th>director_name</th>\n",
       "      <th>duration</th>\n",
       "      <th>actor_2_name</th>\n",
       "      <th>genres</th>\n",
       "      <th>actor_1_name</th>\n",
       "      <th>movie_title</th>\n",
       "      <th>num_voted_users</th>\n",
       "      <th>actor_3_name</th>\n",
       "      <th>movie_imdb_link</th>\n",
       "      <th>num_user_for_reviews</th>\n",
       "      <th>language</th>\n",
       "      <th>country</th>\n",
       "      <th>title_year</th>\n",
       "      <th>imdb_score</th>\n",
       "    </tr>\n",
       "  </thead>\n",
       "  <tbody>\n",
       "    <tr>\n",
       "      <th>0</th>\n",
       "      <td>0</td>\n",
       "      <td>James Cameron</td>\n",
       "      <td>178.0</td>\n",
       "      <td>Joel David Moore</td>\n",
       "      <td>Action|Adventure|Fantasy|Sci-Fi</td>\n",
       "      <td>CCH Pounder</td>\n",
       "      <td>Avatar</td>\n",
       "      <td>886204</td>\n",
       "      <td>Wes Studi</td>\n",
       "      <td>http://www.imdb.com/title/tt0499549/?ref_=fn_t...</td>\n",
       "      <td>3054.0</td>\n",
       "      <td>English</td>\n",
       "      <td>USA</td>\n",
       "      <td>2009.0</td>\n",
       "      <td>7.9</td>\n",
       "    </tr>\n",
       "    <tr>\n",
       "      <th>1</th>\n",
       "      <td>1</td>\n",
       "      <td>Gore Verbinski</td>\n",
       "      <td>169.0</td>\n",
       "      <td>Orlando Bloom</td>\n",
       "      <td>Action|Adventure|Fantasy</td>\n",
       "      <td>Johnny Depp</td>\n",
       "      <td>Pirates of the Caribbean: At World's End</td>\n",
       "      <td>471220</td>\n",
       "      <td>Jack Davenport</td>\n",
       "      <td>http://www.imdb.com/title/tt0449088/?ref_=fn_t...</td>\n",
       "      <td>1238.0</td>\n",
       "      <td>English</td>\n",
       "      <td>USA</td>\n",
       "      <td>2007.0</td>\n",
       "      <td>7.1</td>\n",
       "    </tr>\n",
       "    <tr>\n",
       "      <th>2</th>\n",
       "      <td>2</td>\n",
       "      <td>Sam Mendes</td>\n",
       "      <td>148.0</td>\n",
       "      <td>Rory Kinnear</td>\n",
       "      <td>Action|Adventure|Thriller</td>\n",
       "      <td>Christoph Waltz</td>\n",
       "      <td>Spectre</td>\n",
       "      <td>275868</td>\n",
       "      <td>Stephanie Sigman</td>\n",
       "      <td>http://www.imdb.com/title/tt2379713/?ref_=fn_t...</td>\n",
       "      <td>994.0</td>\n",
       "      <td>English</td>\n",
       "      <td>UK</td>\n",
       "      <td>2015.0</td>\n",
       "      <td>6.8</td>\n",
       "    </tr>\n",
       "    <tr>\n",
       "      <th>3</th>\n",
       "      <td>3</td>\n",
       "      <td>Christopher Nolan</td>\n",
       "      <td>164.0</td>\n",
       "      <td>Christian Bale</td>\n",
       "      <td>Action|Thriller</td>\n",
       "      <td>Tom Hardy</td>\n",
       "      <td>The Dark Knight Rises</td>\n",
       "      <td>1144337</td>\n",
       "      <td>Joseph Gordon-Levitt</td>\n",
       "      <td>http://www.imdb.com/title/tt1345836/?ref_=fn_t...</td>\n",
       "      <td>2701.0</td>\n",
       "      <td>English</td>\n",
       "      <td>USA</td>\n",
       "      <td>2012.0</td>\n",
       "      <td>8.5</td>\n",
       "    </tr>\n",
       "    <tr>\n",
       "      <th>4</th>\n",
       "      <td>4</td>\n",
       "      <td>Doug Walker</td>\n",
       "      <td>NaN</td>\n",
       "      <td>Rob Walker</td>\n",
       "      <td>Documentary</td>\n",
       "      <td>Doug Walker</td>\n",
       "      <td>Star Wars: Episode VII - The Force Awakens    ...</td>\n",
       "      <td>8</td>\n",
       "      <td>NaN</td>\n",
       "      <td>http://www.imdb.com/title/tt5289954/?ref_=fn_t...</td>\n",
       "      <td>NaN</td>\n",
       "      <td>NaN</td>\n",
       "      <td>NaN</td>\n",
       "      <td>NaN</td>\n",
       "      <td>7.1</td>\n",
       "    </tr>\n",
       "  </tbody>\n",
       "</table>\n",
       "</div>"
      ],
      "text/plain": [
       "   index      director_name  duration      actor_2_name  \\\n",
       "0      0      James Cameron     178.0  Joel David Moore   \n",
       "1      1     Gore Verbinski     169.0     Orlando Bloom   \n",
       "2      2         Sam Mendes     148.0      Rory Kinnear   \n",
       "3      3  Christopher Nolan     164.0    Christian Bale   \n",
       "4      4        Doug Walker       NaN        Rob Walker   \n",
       "\n",
       "                            genres     actor_1_name  \\\n",
       "0  Action|Adventure|Fantasy|Sci-Fi      CCH Pounder   \n",
       "1         Action|Adventure|Fantasy      Johnny Depp   \n",
       "2        Action|Adventure|Thriller  Christoph Waltz   \n",
       "3                  Action|Thriller        Tom Hardy   \n",
       "4                      Documentary      Doug Walker   \n",
       "\n",
       "                                         movie_title  num_voted_users  \\\n",
       "0                                            Avatar            886204   \n",
       "1          Pirates of the Caribbean: At World's End            471220   \n",
       "2                                           Spectre            275868   \n",
       "3                             The Dark Knight Rises           1144337   \n",
       "4  Star Wars: Episode VII - The Force Awakens    ...                8   \n",
       "\n",
       "           actor_3_name                                    movie_imdb_link  \\\n",
       "0             Wes Studi  http://www.imdb.com/title/tt0499549/?ref_=fn_t...   \n",
       "1        Jack Davenport  http://www.imdb.com/title/tt0449088/?ref_=fn_t...   \n",
       "2      Stephanie Sigman  http://www.imdb.com/title/tt2379713/?ref_=fn_t...   \n",
       "3  Joseph Gordon-Levitt  http://www.imdb.com/title/tt1345836/?ref_=fn_t...   \n",
       "4                   NaN  http://www.imdb.com/title/tt5289954/?ref_=fn_t...   \n",
       "\n",
       "   num_user_for_reviews language country  title_year  imdb_score  \n",
       "0                3054.0  English     USA      2009.0         7.9  \n",
       "1                1238.0  English     USA      2007.0         7.1  \n",
       "2                 994.0  English      UK      2015.0         6.8  \n",
       "3                2701.0  English     USA      2012.0         8.5  \n",
       "4                   NaN      NaN     NaN         NaN         7.1  "
      ]
     },
     "execution_count": 49,
     "metadata": {},
     "output_type": "execute_result"
    }
   ],
   "source": [
    "import pandas as pd\n",
    "import csv\n",
    "import numpy as np\n",
    "\n",
    "df = pd.read_csv('dataset.csv', low_memory=False)\n",
    "df.head()"
   ]
  },
  {
   "cell_type": "markdown",
   "metadata": {},
   "source": [
    "# movies"
   ]
  },
  {
   "cell_type": "code",
   "execution_count": 50,
   "metadata": {},
   "outputs": [],
   "source": [
    "movies_df = pd.DataFrame()\n",
    "movies_df['movie_id'] = df['index'] + 1\n",
    "movies_df['movie_title'] = df['movie_title']\n",
    "movies_df['release_date'] = df['title_year']\n",
    "movies_df['language'] = df['language']\n",
    "movies_df['directed_by'] = df['director_name']\n",
    "movies_df.to_csv('movies.csv', index=False)"
   ]
  },
  {
   "cell_type": "markdown",
   "metadata": {},
   "source": [
    "# actors\n",
    "Mapping actor\\_id to actor\\_name"
   ]
  },
  {
   "cell_type": "code",
   "execution_count": 51,
   "metadata": {},
   "outputs": [
    {
     "name": "stdout",
     "output_type": "stream",
     "text": [
      "      actor_id       actor_name\n",
      "0            1      CCH Pounder\n",
      "1            2      Johnny Depp\n",
      "2            3  Christoph Waltz\n",
      "3            4        Tom Hardy\n",
      "4            5      Doug Walker\n",
      "...        ...              ...\n",
      "6251      6252   Sara Stepnicka\n",
      "6252      6253  Daniella Pineda\n",
      "6253      6254    Sam Underwood\n",
      "6254      6255   David Chandler\n",
      "6255      6256         Jon Gunn\n",
      "\n",
      "[6256 rows x 2 columns]\n"
     ]
    }
   ],
   "source": [
    "actors_distinct = {}\n",
    "counter = 1 #actor_id \n",
    "for actor in df['actor_1_name']:\n",
    "    if actor not in actors_distinct:\n",
    "        actors_distinct[actor] = counter \n",
    "        counter += 1 \n",
    "for actor in df['actor_2_name']:\n",
    "    if actor not in actors_distinct:\n",
    "        actors_distinct[actor] = counter \n",
    "        counter += 1 \n",
    "for actor in df['actor_3_name']:\n",
    "    if actor not in actors_distinct:\n",
    "        actors_distinct[actor] = counter \n",
    "        counter += 1 \n",
    "\n",
    "actors_df = pd.DataFrame.from_dict(actors_distinct, orient='index') \n",
    "\n",
    "actors_df  = actors_df.reset_index()\n",
    "\n",
    "actors_df.columns = ['actor_name', 'actor_id'] \n",
    "actors_df = actors_df[['actor_id', 'actor_name']] \n",
    "\n",
    "print(actors_df)\n",
    "actors_df.to_csv('actors.csv', index=False) "
   ]
  },
  {
   "cell_type": "markdown",
   "metadata": {},
   "source": [
    "# genres"
   ]
  },
  {
   "cell_type": "markdown",
   "metadata": {},
   "source": [
    "Maps distinct genres to genre_id"
   ]
  },
  {
   "cell_type": "code",
   "execution_count": 52,
   "metadata": {},
   "outputs": [
    {
     "name": "stdout",
     "output_type": "stream",
     "text": [
      "{'Action': 1, 'Adventure': 2, 'Fantasy': 3, 'Sci-Fi': 4, 'Thriller': 5, 'Documentary': 6, 'Romance': 7, 'Animation': 8, 'Comedy': 9, 'Family': 10, 'Musical': 11, 'Mystery': 12, 'Western': 13, 'Drama': 14, 'History': 15, 'Sport': 16, 'Crime': 17, 'Horror': 18, 'War': 19, 'Biography': 20, 'Music': 21, 'Game-Show': 22, 'Reality-TV': 23, 'News': 24, 'Short': 25, 'Film-Noir': 26}\n"
     ]
    }
   ],
   "source": [
    "genres_distinct = {}\n",
    "counter = 1\n",
    "for i in df['genres']:\n",
    "    d=i.replace(',','').split('|') \n",
    "    for j in d:\n",
    "      if j not in genres_distinct:\n",
    "        genres_distinct[j] = counter \n",
    "        counter += 1 \n",
    "print(genres_distinct) \n",
    "\n",
    "ids = genres_distinct.values()\n",
    "genres = genres_distinct.keys()\n",
    "\n",
    "genres_df = pd.DataFrame({'genre_id': ids, 'genre': genres})\n",
    "\n",
    "genres_df.to_csv('genres.csv', index=False)"
   ]
  },
  {
   "cell_type": "markdown",
   "metadata": {},
   "source": [
    "# cast"
   ]
  },
  {
   "cell_type": "code",
   "execution_count": 53,
   "metadata": {},
   "outputs": [
    {
     "name": "stdout",
     "output_type": "stream",
     "text": [
      "       movie_id  actor_id\n",
      "0             1         1\n",
      "1             1      1727\n",
      "2             1       496\n",
      "3             2         2\n",
      "4             2       181\n",
      "...         ...       ...\n",
      "15124      5042      2121\n",
      "15125      5042      2986\n",
      "15126      5043      2098\n",
      "15127      5043      4130\n",
      "15128      5043      6256\n",
      "\n",
      "[15129 rows x 2 columns]\n"
     ]
    }
   ],
   "source": [
    "cast_map = {}   \n",
    "for i, row in df.iterrows():\n",
    "    movie_id = row['index'] + 1\n",
    "    cast_map[movie_id] = [row['actor_1_name'], row['actor_2_name'], row['actor_3_name']] \n",
    "data = []\n",
    "for movie_id, actors in cast_map.items():\n",
    "    for actor in actors:\n",
    "        data.append({'movie_id': movie_id, 'actor_id': actors_distinct[actor]}) \n",
    "\n",
    "cast_df = pd.DataFrame(data)\n",
    "print(cast_df)\n",
    "cast_df.to_csv('cast.csv', index=False) "
   ]
  },
  {
   "cell_type": "markdown",
   "metadata": {},
   "source": [
    "# movie_genres"
   ]
  },
  {
   "cell_type": "code",
   "execution_count": 54,
   "metadata": {},
   "outputs": [
    {
     "name": "stdout",
     "output_type": "stream",
     "text": [
      "      index   genre                     movie_genres\n",
      "0         0  genres  Action|Adventure|Fantasy|Sci-Fi\n",
      "1         1  genres         Action|Adventure|Fantasy\n",
      "2         2  genres        Action|Adventure|Thriller\n",
      "3         3  genres                  Action|Thriller\n",
      "4         4  genres                      Documentary\n",
      "...     ...     ...                              ...\n",
      "5038   5038  genres                     Comedy|Drama\n",
      "5039   5039  genres     Crime|Drama|Mystery|Thriller\n",
      "5040   5040  genres            Drama|Horror|Thriller\n",
      "5041   5041  genres             Comedy|Drama|Romance\n",
      "5042   5042  genres                      Documentary\n",
      "\n",
      "[5043 rows x 3 columns]\n"
     ]
    }
   ],
   "source": [
    "movie_genres = pd.melt(df, id_vars=['index'], value_vars=['genres'], var_name='genre', value_name='movie_genres')\n",
    "\n",
    "for i in movie_genres['movie_genres']:\n",
    "    i = i.replace(',','').split('|') \n",
    "print(movie_genres)"
   ]
  },
  {
   "cell_type": "code",
   "execution_count": 55,
   "metadata": {},
   "outputs": [
    {
     "name": "stdout",
     "output_type": "stream",
     "text": [
      "       movie_id  genre_id\n",
      "0             1         1\n",
      "1             1         2\n",
      "2             1         3\n",
      "3             1         4\n",
      "4             2         1\n",
      "...         ...       ...\n",
      "14499      5041         5\n",
      "14500      5042         9\n",
      "14501      5042        14\n",
      "14502      5042         7\n",
      "14503      5043         6\n",
      "\n",
      "[14504 rows x 2 columns]\n"
     ]
    }
   ],
   "source": [
    "movie_genre_mapping = {}\n",
    "for index, row in movie_genres.iterrows():\n",
    "    movie_id = row['index'] + 1\n",
    "    genres = row['movie_genres'].replace(',','').split('|')\n",
    "    \n",
    "    for genre in genres:\n",
    "        genre_id = genres_distinct[genre]\n",
    "        if movie_id not in movie_genre_mapping:\n",
    "            movie_genre_mapping[movie_id] = []\n",
    "        movie_genre_mapping[movie_id].append(genre_id)\n",
    "\n",
    "data = []\n",
    "for movie_id, genre_list in movie_genre_mapping.items():\n",
    "    for genre_id in genre_list:\n",
    "        data.append({'movie_id': movie_id, 'genre_id': genre_id})\n",
    "\n",
    "movie_genres_df = pd.DataFrame(data)\n",
    "\n",
    "movie_genres_df.to_csv('movie_genres.csv', index=False) \n",
    "print(movie_genres_df)"
   ]
  },
  {
   "cell_type": "markdown",
   "metadata": {},
   "source": [
    "# ratings"
   ]
  },
  {
   "cell_type": "code",
   "execution_count": 56,
   "metadata": {},
   "outputs": [
    {
     "name": "stdout",
     "output_type": "stream",
     "text": [
      "      movie_id                                        movie_title  rating\n",
      "0            1                                            Avatar      7.9\n",
      "1            2          Pirates of the Caribbean: At World's End      7.1\n",
      "2            3                                           Spectre      6.8\n",
      "3            4                             The Dark Knight Rises      8.5\n",
      "4            5  Star Wars: Episode VII - The Force Awakens    ...     7.1\n",
      "...        ...                                                ...     ...\n",
      "5038      5039                           Signed Sealed Delivered      7.7\n",
      "5039      5040                         The Following                  7.5\n",
      "5040      5041                              A Plague So Pleasant      6.3\n",
      "5041      5042                                  Shanghai Calling      6.3\n",
      "5042      5043                                 My Date with Drew      6.6\n",
      "\n",
      "[5043 rows x 3 columns]\n"
     ]
    }
   ],
   "source": [
    "df['imdb_score'] = df['imdb_score'].replace(9.9, 10)\n",
    "ratings = pd.DataFrame()\n",
    "ratings['movie_id'] = df['index'] + 1\n",
    "ratings['movie_title'] = df['movie_title'] \n",
    "ratings['rating'] = df['imdb_score']\n",
    "\n",
    "ratings.drop_duplicates(subset=['movie_title'])\n",
    "print(ratings)\n",
    "\n",
    "ratings.to_csv('ratings.csv', index=False)"
   ]
  }
 ],
 "metadata": {
  "kernelspec": {
   "display_name": "Python 3",
   "language": "python",
   "name": "python3"
  },
  "language_info": {
   "codemirror_mode": {
    "name": "ipython",
    "version": 3
   },
   "file_extension": ".py",
   "mimetype": "text/x-python",
   "name": "python",
   "nbconvert_exporter": "python",
   "pygments_lexer": "ipython3",
   "version": "3.11.4"
  }
 },
 "nbformat": 4,
 "nbformat_minor": 2
}
